{
 "cells": [
  {
   "cell_type": "code",
   "execution_count": 3,
   "metadata": {},
   "outputs": [],
   "source": [
    "import gym\n",
    "import gym_anytrading\n",
    "from gym_anytrading.envs import TradingEnv, ForexEnv, StocksEnv, Actions, Positions \n",
    "from gym_anytrading.datasets import FOREX_EURUSD_1H_ASK, STOCKS_GOOGL\n",
    "from actor_critic_discrete import Agent\n",
    "import matplotlib.pyplot as plt"
   ]
  },
  {
   "cell_type": "code",
   "execution_count": null,
   "metadata": {},
   "outputs": [
    {
     "name": "stdout",
     "output_type": "stream",
     "text": [
      "Episode 0\tLast reward: 902.30\tAverage reward: 45.12\n",
      "Episode 10\tLast reward: -1186.00\tAverage reward: -89.26\n",
      "Episode 20\tLast reward: 281.80\tAverage reward: -99.19\n",
      "Episode 30\tLast reward: 528.10\tAverage reward: 119.95\n",
      "Episode 40\tLast reward: -207.50\tAverage reward: 223.30\n",
      "Episode 50\tLast reward: 1077.90\tAverage reward: 292.65\n",
      "Episode 60\tLast reward: 298.40\tAverage reward: 202.94\n",
      "Episode 70\tLast reward: -997.90\tAverage reward: 172.04\n",
      "Episode 80\tLast reward: -656.70\tAverage reward: 167.77\n",
      "Episode 90\tLast reward: -395.50\tAverage reward: 121.40\n",
      "Episode 100\tLast reward: 377.70\tAverage reward: 204.00\n",
      "Episode 110\tLast reward: -298.80\tAverage reward: 85.11\n",
      "Episode 120\tLast reward: 1190.40\tAverage reward: 180.21\n",
      "Episode 130\tLast reward: -171.00\tAverage reward: 111.36\n",
      "Episode 140\tLast reward: 1449.70\tAverage reward: 12.69\n",
      "Episode 150\tLast reward: -98.90\tAverage reward: 205.37\n"
     ]
    }
   ],
   "source": [
    "env = gym.make('forex-v0', \n",
    "               frame_bound=(10, 6225), \n",
    "               window_size=10)\n",
    "                                       \n",
    "agent = Agent(alpha=0.0001, \n",
    "              input_dims=[env.frame_bound[0],2], # timestep , number of signal features \n",
    "              gamma=0.99, \n",
    "              n_actions=2, \n",
    "              layer1_size=64, \n",
    "              layer2_size=32)\n",
    "\n",
    "num_episodes = 1000 # need big number to able to learn something \n",
    "ep_reward = 0\n",
    "total_reward = 0\n",
    "done = False \n",
    "running_reward = 0\n",
    "log_interval = 10\n",
    "reward_history = []\n",
    "\n",
    "\n",
    "for i_episode in range(num_episodes):\n",
    "    observation = env.reset()\n",
    "    ep_reward = 0\n",
    "    while not done :\n",
    "        action = agent.choose_action(observation)\n",
    "        observation, reward, done, info = env.step(action)\n",
    "        agent.rewards.append(reward)\n",
    "        ep_reward += reward \n",
    "           \n",
    "    agent.learn(observation, reward, done)\n",
    "    done = False   \n",
    "    running_reward = 0.05 * ep_reward + (1 - 0.05) * running_reward\n",
    "    \n",
    "    if i_episode % log_interval == 0:\n",
    "        print('Episode {}\\tLast reward: {:.2f}\\tAverage reward: {:.2f}'.format(i_episode, ep_reward, running_reward))\n",
    "    reward_history.append(running_reward)"
   ]
  },
  {
   "cell_type": "code",
   "execution_count": null,
   "metadata": {},
   "outputs": [],
   "source": [
    "#running one example \n",
    "observation = env.reset()\n",
    "ep_reward = 0\n",
    "while not done :\n",
    "    action = agent.choose_action(observation)\n",
    "    observation_, reward, done, info = env.step(action)\n",
    "    observation = observation_\n",
    "    agent.rewards.append(reward)\n",
    "    ep_reward += reward \n",
    "    if done:\n",
    "        print(\"info:\", info)\n",
    "    \n",
    "plt.cla()\n",
    "env.render_all()\n",
    "plt.show()    "
   ]
  }
 ],
 "metadata": {
  "kernelspec": {
   "display_name": "Python 3",
   "language": "python",
   "name": "python3"
  },
  "language_info": {
   "codemirror_mode": {
    "name": "ipython",
    "version": 3
   },
   "file_extension": ".py",
   "mimetype": "text/x-python",
   "name": "python",
   "nbconvert_exporter": "python",
   "pygments_lexer": "ipython3",
   "version": "3.7.4"
  }
 },
 "nbformat": 4,
 "nbformat_minor": 2
}
